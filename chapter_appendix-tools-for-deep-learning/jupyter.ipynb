{
  "cells": [
    {
      "cell_type": "code",
      "source": [
        "import tensorflow as tf"
      ],
      "metadata": {
        "id": "3yMAPP6WoZqp"
      },
      "id": "3yMAPP6WoZqp",
      "execution_count": 1,
      "outputs": []
    },
    {
      "cell_type": "markdown",
      "source": [
        " **1. Create a vector, scalar, matrix and tensor with values of your choice using tf.constant()**"
      ],
      "metadata": {
        "id": "85iam7P7pdOj"
      },
      "id": "85iam7P7pdOj"
    },
    {
      "cell_type": "code",
      "source": [
        "# Create a scalar\n",
        "scalar = tf.constant(5)\n",
        "print(\"Scalar:\", scalar)"
      ],
      "metadata": {
        "colab": {
          "base_uri": "https://localhost:8080/"
        },
        "id": "l6asMkaxotB3",
        "outputId": "a574b73f-9077-4385-d9bd-61ac9eeeae33"
      },
      "id": "l6asMkaxotB3",
      "execution_count": 7,
      "outputs": [
        {
          "output_type": "stream",
          "name": "stdout",
          "text": [
            "Scalar: tf.Tensor(5, shape=(), dtype=int32)\n"
          ]
        }
      ]
    },
    {
      "cell_type": "code",
      "source": [
        "# Create a vector\n",
        "vector = tf.constant([1, 2, 3])\n",
        "print(\"Vector:\", vector)"
      ],
      "metadata": {
        "colab": {
          "base_uri": "https://localhost:8080/"
        },
        "id": "AuVXcwPuo5ju",
        "outputId": "9ff6511b-869d-4cb6-9358-ed446b0819a9"
      },
      "id": "AuVXcwPuo5ju",
      "execution_count": 8,
      "outputs": [
        {
          "output_type": "stream",
          "name": "stdout",
          "text": [
            "Vector: tf.Tensor([1 2 3], shape=(3,), dtype=int32)\n"
          ]
        }
      ]
    },
    {
      "cell_type": "code",
      "source": [
        "# Create a matrix\n",
        "matrix = tf.constant([[1, 2], [3, 4]])\n",
        "print(\"Matrix:\", matrix)"
      ],
      "metadata": {
        "colab": {
          "base_uri": "https://localhost:8080/"
        },
        "id": "PqJu8oFqo8ck",
        "outputId": "64ca40ee-78e8-454f-c532-1a0d9816ba52"
      },
      "id": "PqJu8oFqo8ck",
      "execution_count": 9,
      "outputs": [
        {
          "output_type": "stream",
          "name": "stdout",
          "text": [
            "Matrix: tf.Tensor(\n",
            "[[1 2]\n",
            " [3 4]], shape=(2, 2), dtype=int32)\n"
          ]
        }
      ]
    },
    {
      "cell_type": "code",
      "source": [
        "# Create a tensor\n",
        "tensor = tf.constant([[[1, 2], [3, 4]], [[5, 6], [7, 8]]])\n",
        "print(\"Tensor:\", tensor)"
      ],
      "metadata": {
        "colab": {
          "base_uri": "https://localhost:8080/"
        },
        "id": "HV8KCKcZpB0v",
        "outputId": "a135d0a9-1cc1-470f-9b86-2a154c4986a0"
      },
      "id": "HV8KCKcZpB0v",
      "execution_count": 10,
      "outputs": [
        {
          "output_type": "stream",
          "name": "stdout",
          "text": [
            "Tensor: tf.Tensor(\n",
            "[[[1 2]\n",
            "  [3 4]]\n",
            "\n",
            " [[5 6]\n",
            "  [7 8]]], shape=(2, 2, 2), dtype=int32)\n"
          ]
        }
      ]
    },
    {
      "cell_type": "markdown",
      "source": [
        "**2.Find the shape, rank and size of the tensors (which you created for Q1).**"
      ],
      "metadata": {
        "id": "P-5EJGpZqL_i"
      },
      "id": "P-5EJGpZqL_i"
    },
    {
      "cell_type": "code",
      "source": [
        "print(\"Scalar - Shape:\", scalar.shape, \"Rank:\", tf.rank(scalar).numpy(), \"Size:\", tf.size(scalar).numpy())\n",
        "print(\"Vector - Shape:\", vector.shape, \"Rank:\", tf.rank(vector).numpy(), \"Size:\", tf.size(vector).numpy())\n",
        "print(\"Matrix - Shape:\", matrix.shape, \"Rank:\", tf.rank(matrix).numpy(), \"Size:\", tf.size(matrix).numpy())\n",
        "print(\"Tensor - Shape:\", tensor.shape, \"Rank:\", tf.rank(tensor).numpy(), \"Size:\", tf.size(tensor).numpy())"
      ],
      "metadata": {
        "id": "unf_glmkrkiX",
        "outputId": "72ca8132-c33a-45d0-82fb-28131f03f0d4",
        "colab": {
          "base_uri": "https://localhost:8080/"
        }
      },
      "id": "unf_glmkrkiX",
      "execution_count": 14,
      "outputs": [
        {
          "output_type": "stream",
          "name": "stdout",
          "text": [
            "Scalar - Shape: () Rank: 0 Size: 1\n",
            "Vector - Shape: (3,) Rank: 1 Size: 3\n",
            "Matrix - Shape: (2, 2) Rank: 2 Size: 4\n",
            "Tensor - Shape: (2, 2, 2) Rank: 3 Size: 8\n"
          ]
        }
      ]
    }
  ],
  "metadata": {
    "kernelspec": {
      "display_name": "Python 3",
      "name": "python3"
    },
    "language_info": {
      "name": "python"
    },
    "required_libs": [],
    "colab": {
      "provenance": []
    }
  },
  "nbformat": 4,
  "nbformat_minor": 5
}