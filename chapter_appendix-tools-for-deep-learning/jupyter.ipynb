{
  "cells": [
    {
      "cell_type": "code",
      "source": [
        "import tensorflow as tf"
      ],
      "metadata": {
        "id": "3yMAPP6WoZqp"
      },
      "id": "3yMAPP6WoZqp",
      "execution_count": 1,
      "outputs": []
    },
    {
      "cell_type": "markdown",
      "source": [
        " **1. Create a vector, scalar, matrix and tensor with values of your choice using tf.constant()**"
      ],
      "metadata": {
        "id": "85iam7P7pdOj"
      },
      "id": "85iam7P7pdOj"
    },
    {
      "cell_type": "code",
      "source": [
        "# Create a scalar\n",
        "scalar = tf.constant(5)\n",
        "print(\"Scalar:\", scalar)"
      ],
      "metadata": {
        "colab": {
          "base_uri": "https://localhost:8080/"
        },
        "id": "l6asMkaxotB3",
        "outputId": "a574b73f-9077-4385-d9bd-61ac9eeeae33"
      },
      "id": "l6asMkaxotB3",
      "execution_count": 7,
      "outputs": [
        {
          "output_type": "stream",
          "name": "stdout",
          "text": [
            "Scalar: tf.Tensor(5, shape=(), dtype=int32)\n"
          ]
        }
      ]
    },
    {
      "cell_type": "code",
      "source": [
        "# Create a vector\n",
        "vector = tf.constant([1, 2, 3])\n",
        "print(\"Vector:\", vector)"
      ],
      "metadata": {
        "colab": {
          "base_uri": "https://localhost:8080/"
        },
        "id": "AuVXcwPuo5ju",
        "outputId": "9ff6511b-869d-4cb6-9358-ed446b0819a9"
      },
      "id": "AuVXcwPuo5ju",
      "execution_count": 8,
      "outputs": [
        {
          "output_type": "stream",
          "name": "stdout",
          "text": [
            "Vector: tf.Tensor([1 2 3], shape=(3,), dtype=int32)\n"
          ]
        }
      ]
    },
    {
      "cell_type": "code",
      "source": [
        "# Create a matrix\n",
        "matrix = tf.constant([[1, 2], [3, 4]])\n",
        "print(\"Matrix:\", matrix)"
      ],
      "metadata": {
        "colab": {
          "base_uri": "https://localhost:8080/"
        },
        "id": "PqJu8oFqo8ck",
        "outputId": "64ca40ee-78e8-454f-c532-1a0d9816ba52"
      },
      "id": "PqJu8oFqo8ck",
      "execution_count": 9,
      "outputs": [
        {
          "output_type": "stream",
          "name": "stdout",
          "text": [
            "Matrix: tf.Tensor(\n",
            "[[1 2]\n",
            " [3 4]], shape=(2, 2), dtype=int32)\n"
          ]
        }
      ]
    },
    {
      "cell_type": "code",
      "source": [
        "# Create a tensor\n",
        "tensor = tf.constant([[[1, 2], [3, 4]], [[5, 6], [7, 8]]])\n",
        "print(\"Tensor:\", tensor)"
      ],
      "metadata": {
        "colab": {
          "base_uri": "https://localhost:8080/"
        },
        "id": "HV8KCKcZpB0v",
        "outputId": "a135d0a9-1cc1-470f-9b86-2a154c4986a0"
      },
      "id": "HV8KCKcZpB0v",
      "execution_count": 10,
      "outputs": [
        {
          "output_type": "stream",
          "name": "stdout",
          "text": [
            "Tensor: tf.Tensor(\n",
            "[[[1 2]\n",
            "  [3 4]]\n",
            "\n",
            " [[5 6]\n",
            "  [7 8]]], shape=(2, 2, 2), dtype=int32)\n"
          ]
        }
      ]
    },
    {
      "cell_type": "markdown",
      "source": [
        "**2.Find the shape, rank and size of the tensors (which you created for Q1).**"
      ],
      "metadata": {
        "id": "P-5EJGpZqL_i"
      },
      "id": "P-5EJGpZqL_i"
    },
    {
      "cell_type": "code",
      "source": [
        "print(\"Scalar - Shape:\", scalar.shape, \"Rank:\", tf.rank(scalar).numpy(), \"Size:\", tf.size(scalar).numpy())\n",
        "print(\"Vector - Shape:\", vector.shape, \"Rank:\", tf.rank(vector).numpy(), \"Size:\", tf.size(vector).numpy())\n",
        "print(\"Matrix - Shape:\", matrix.shape, \"Rank:\", tf.rank(matrix).numpy(), \"Size:\", tf.size(matrix).numpy())\n",
        "print(\"Tensor - Shape:\", tensor.shape, \"Rank:\", tf.rank(tensor).numpy(), \"Size:\", tf.size(tensor).numpy())"
      ],
      "metadata": {
        "colab": {
          "base_uri": "https://localhost:8080/"
        },
        "id": "unf_glmkrkiX",
        "outputId": "72ca8132-c33a-45d0-82fb-28131f03f0d4"
      },
      "id": "unf_glmkrkiX",
      "execution_count": 14,
      "outputs": [
        {
          "output_type": "stream",
          "name": "stdout",
          "text": [
            "Scalar - Shape: () Rank: 0 Size: 1\n",
            "Vector - Shape: (3,) Rank: 1 Size: 3\n",
            "Matrix - Shape: (2, 2) Rank: 2 Size: 4\n",
            "Tensor - Shape: (2, 2, 2) Rank: 3 Size: 8\n"
          ]
        }
      ]
    },
    {
      "cell_type": "markdown",
      "source": [
        "**3.Create two tensors containing random values between 0 and 1 with shape [5,300].**"
      ],
      "metadata": {
        "id": "1b4wP_QOrtY5"
      },
      "id": "1b4wP_QOrtY5"
    },
    {
      "cell_type": "code",
      "source": [
        "# Create two tensors with random values between 0 and 1, with shape [5, 300]\n",
        "tensor1 = tf.random.uniform([5, 300], minval=0, maxval=1, dtype=tf.float32)\n",
        "tensor2 = tf.random.uniform([5, 300], minval=0, maxval=1, dtype=tf.float32)\n",
        "\n",
        "print(\"Tensor 1:\")\n",
        "print(tensor1)\n",
        "print(\"Tensor 2:\")\n",
        "print(tensor2)"
      ],
      "metadata": {
        "colab": {
          "base_uri": "https://localhost:8080/"
        },
        "id": "ZNYMoVxJr1ho",
        "outputId": "0bca2c07-fc7b-4799-d8ac-f6bfb0843cbc"
      },
      "id": "ZNYMoVxJr1ho",
      "execution_count": 15,
      "outputs": [
        {
          "output_type": "stream",
          "name": "stdout",
          "text": [
            "Tensor 1:\n",
            "tf.Tensor(\n",
            "[[0.50866926 0.34323585 0.06875312 ... 0.70398474 0.28436804 0.954795  ]\n",
            " [0.4407617  0.24972486 0.75140464 ... 0.46400607 0.5011853  0.9745331 ]\n",
            " [0.41005445 0.5672165  0.4730302  ... 0.39044487 0.3019532  0.5403255 ]\n",
            " [0.74893045 0.39412177 0.46800804 ... 0.6631292  0.5188091  0.34921432]\n",
            " [0.52533185 0.32006168 0.5434861  ... 0.7179241  0.7723274  0.3415686 ]], shape=(5, 300), dtype=float32)\n",
            "Tensor 2:\n",
            "tf.Tensor(\n",
            "[[0.8037964  0.9401088  0.16081488 ... 0.714708   0.74110925 0.42733443]\n",
            " [0.04235852 0.33751655 0.44583797 ... 0.68953884 0.97895205 0.6400398 ]\n",
            " [0.4674623  0.31654525 0.43272936 ... 0.9307698  0.43508494 0.6753799 ]\n",
            " [0.73404264 0.4311341  0.19812346 ... 0.8996655  0.72960484 0.05689728]\n",
            " [0.9880637  0.20429504 0.6000763  ... 0.13621819 0.01385868 0.28384137]], shape=(5, 300), dtype=float32)\n"
          ]
        }
      ]
    },
    {
      "cell_type": "markdown",
      "source": [
        "**4.Multiply the two tensors (which you created for Question 3) using matrix multiplication. **"
      ],
      "metadata": {
        "id": "DgtvVf_8tPCd"
      },
      "id": "DgtvVf_8tPCd"
    },
    {
      "cell_type": "code",
      "source": [
        "# Create two tensors with random values between 0 and 1, with shape [5, 300]\n",
        "tensor1 = tf.random.uniform([5, 300], minval=0, maxval=1, dtype=tf.float32)\n",
        "tensor2 = tf.random.uniform([5, 300], minval=0, maxval=1, dtype=tf.float32)\n"
      ],
      "metadata": {
        "id": "I3NppXb3tOMn"
      },
      "id": "I3NppXb3tOMn",
      "execution_count": 16,
      "outputs": []
    },
    {
      "cell_type": "code",
      "source": [
        "# Perform matrix multiplication\n",
        "result = tf.matmul(tensor1, tensor2, transpose_b=True)"
      ],
      "metadata": {
        "id": "K0k8TF0WtqFl"
      },
      "id": "K0k8TF0WtqFl",
      "execution_count": 17,
      "outputs": []
    },
    {
      "cell_type": "code",
      "source": [
        "# Print the resulting tensor\n",
        "print(\"Result of matrix multiplication:\")\n",
        "print(result)"
      ],
      "metadata": {
        "colab": {
          "base_uri": "https://localhost:8080/"
        },
        "id": "9otMaOr3tq5H",
        "outputId": "ac52ce28-ca20-446f-851b-d4a3fe7f1fd9"
      },
      "id": "9otMaOr3tq5H",
      "execution_count": 18,
      "outputs": [
        {
          "output_type": "stream",
          "name": "stdout",
          "text": [
            "Result of matrix multiplication:\n",
            "tf.Tensor(\n",
            "[[69.910835 72.72605  78.3583   72.24144  73.18646 ]\n",
            " [69.678955 76.18139  79.70685  73.566666 74.53197 ]\n",
            " [71.33916  74.29613  78.62572  72.7796   77.28064 ]\n",
            " [67.68257  73.377625 78.45811  70.747765 71.62793 ]\n",
            " [68.02311  76.95296  76.86586  75.7589   77.96804 ]], shape=(5, 5), dtype=float32)\n"
          ]
        }
      ]
    },
    {
      "cell_type": "markdown",
      "source": [
        "**5.Multiply the two tensors (which you created for Question 3) using dot product.**"
      ],
      "metadata": {
        "id": "3dhElq0tt9_h"
      },
      "id": "3dhElq0tt9_h"
    },
    {
      "cell_type": "code",
      "source": [
        "# Create two tensors with random values between 0 and 1, with shape [5, 300]\n",
        "tensor1 = tf.random.uniform([5, 300], minval=0, maxval=1, dtype=tf.float32)\n",
        "tensor2 = tf.random.uniform([5, 300], minval=0, maxval=1, dtype=tf.float32)"
      ],
      "metadata": {
        "id": "VQcsrGQWuWKt"
      },
      "id": "VQcsrGQWuWKt",
      "execution_count": 20,
      "outputs": []
    },
    {
      "cell_type": "code",
      "source": [
        "# Compute the dot product\n",
        "dot_product = tf.tensordot(tensor1, tensor2, axes=[[1], [1]])\n"
      ],
      "metadata": {
        "id": "lcRAohfKt8jH"
      },
      "id": "lcRAohfKt8jH",
      "execution_count": 22,
      "outputs": []
    },
    {
      "cell_type": "code",
      "source": [
        "# Print the resulting tensor\n",
        "print(\"Result of dot product:\")\n",
        "print(dot_product)"
      ],
      "metadata": {
        "colab": {
          "base_uri": "https://localhost:8080/"
        },
        "id": "bxd5aAcCuJ00",
        "outputId": "0b77e89e-950e-4bbe-e612-3613a35c6b5c"
      },
      "id": "bxd5aAcCuJ00",
      "execution_count": 23,
      "outputs": [
        {
          "output_type": "stream",
          "name": "stdout",
          "text": [
            "Result of dot product:\n",
            "tf.Tensor(\n",
            "[[73.01307  75.611565 73.757515 69.46524  73.84509 ]\n",
            " [75.95446  78.40941  75.29412  69.9543   73.48273 ]\n",
            " [79.73375  84.68331  79.797615 79.57023  78.26837 ]\n",
            " [73.06737  75.45175  71.85271  71.42295  68.94172 ]\n",
            " [75.11339  80.94206  75.51499  76.22696  74.56004 ]], shape=(5, 5), dtype=float32)\n"
          ]
        }
      ]
    },
    {
      "cell_type": "markdown",
      "source": [
        "**6.Create a tensor with random values between 0 and 1 with shape [224, 224,3].**"
      ],
      "metadata": {
        "id": "WXguSwotuwuS"
      },
      "id": "WXguSwotuwuS"
    },
    {
      "cell_type": "code",
      "source": [
        "# Create a tensor with random values between 0 and 1 with shape [224, 224, 3]\n",
        "tensor = tf.random.uniform([224, 224, 3], minval=0, maxval=1, dtype=tf.float32)\n"
      ],
      "metadata": {
        "id": "N58-9sqau1pd"
      },
      "id": "N58-9sqau1pd",
      "execution_count": 24,
      "outputs": []
    },
    {
      "cell_type": "code",
      "source": [
        "# Print the shape and the tensor\n",
        "print(\"Shape of the tensor:\", tensor.shape)\n",
        "print(\"Tensor with random values:\")\n",
        "print(tensor)"
      ],
      "metadata": {
        "id": "gNR6JADju_Gc",
        "outputId": "610aeea4-39cf-4723-efdd-d2f1e23c1a65",
        "colab": {
          "base_uri": "https://localhost:8080/"
        }
      },
      "id": "gNR6JADju_Gc",
      "execution_count": 25,
      "outputs": [
        {
          "output_type": "stream",
          "name": "stdout",
          "text": [
            "Shape of the tensor: (224, 224, 3)\n",
            "Tensor with random values:\n",
            "tf.Tensor(\n",
            "[[[0.8734863  0.6428838  0.3754089 ]\n",
            "  [0.7495396  0.0965898  0.80765045]\n",
            "  [0.34526289 0.7162912  0.6851605 ]\n",
            "  ...\n",
            "  [0.8755274  0.948923   0.8654144 ]\n",
            "  [0.21892607 0.24051523 0.26450014]\n",
            "  [0.15604532 0.99128103 0.74641883]]\n",
            "\n",
            " [[0.62833226 0.87507224 0.02012086]\n",
            "  [0.3337078  0.42475116 0.7861246 ]\n",
            "  [0.31389642 0.6254504  0.50210154]\n",
            "  ...\n",
            "  [0.76508677 0.80990577 0.5802815 ]\n",
            "  [0.83805525 0.7953849  0.94471514]\n",
            "  [0.8734821  0.7275212  0.7212305 ]]\n",
            "\n",
            " [[0.10087168 0.188115   0.14435816]\n",
            "  [0.8599702  0.84704053 0.68007517]\n",
            "  [0.53798234 0.38348687 0.65463567]\n",
            "  ...\n",
            "  [0.33029234 0.09139252 0.00389147]\n",
            "  [0.52879393 0.98597443 0.72800064]\n",
            "  [0.56564784 0.95855486 0.08341372]]\n",
            "\n",
            " ...\n",
            "\n",
            " [[0.5277586  0.9802824  0.30676365]\n",
            "  [0.8238516  0.00850844 0.12333763]\n",
            "  [0.6661174  0.02303004 0.86215675]\n",
            "  ...\n",
            "  [0.7344686  0.6153017  0.76189137]\n",
            "  [0.8682319  0.75746024 0.99682677]\n",
            "  [0.8923222  0.939378   0.5729444 ]]\n",
            "\n",
            " [[0.8418331  0.5405197  0.10767496]\n",
            "  [0.13228261 0.45813596 0.30694818]\n",
            "  [0.8167325  0.55661714 0.49554336]\n",
            "  ...\n",
            "  [0.5347861  0.27022982 0.51611996]\n",
            "  [0.7574284  0.25597298 0.536021  ]\n",
            "  [0.8802216  0.2466253  0.43350613]]\n",
            "\n",
            " [[0.9403223  0.33208835 0.7342596 ]\n",
            "  [0.15138447 0.70899236 0.37242854]\n",
            "  [0.914374   0.8415848  0.37420976]\n",
            "  ...\n",
            "  [0.45492733 0.6402302  0.98751986]\n",
            "  [0.47394502 0.52662206 0.12479019]\n",
            "  [0.56453824 0.5486802  0.1842792 ]]], shape=(224, 224, 3), dtype=float32)\n"
          ]
        }
      ]
    },
    {
      "cell_type": "markdown",
      "source": [
        "**7.Find the min and max values of the tensor (which you created for Question 6)**"
      ],
      "metadata": {
        "id": "cHTldKnHvJa7"
      },
      "id": "cHTldKnHvJa7"
    },
    {
      "cell_type": "code",
      "source": [
        "# Find the minimum and maximum values of the tensor\n",
        "min_value = tf.reduce_min(tensor)\n",
        "max_value = tf.reduce_max(tensor)\n"
      ],
      "metadata": {
        "id": "Xvii9Wc4vMl2"
      },
      "id": "Xvii9Wc4vMl2",
      "execution_count": 26,
      "outputs": []
    },
    {
      "cell_type": "code",
      "source": [
        "# Print the min and max values\n",
        "print(\"Min value:\", min_value.numpy())\n",
        "print(\"Max value:\", max_value.numpy())"
      ],
      "metadata": {
        "id": "TXPEFPKjvRZG",
        "outputId": "a76a0611-e1da-4774-e072-33f81e3298d1",
        "colab": {
          "base_uri": "https://localhost:8080/"
        }
      },
      "id": "TXPEFPKjvRZG",
      "execution_count": 27,
      "outputs": [
        {
          "output_type": "stream",
          "name": "stdout",
          "text": [
            "Min value: 3.2186508e-06\n",
            "Max value: 0.99999607\n"
          ]
        }
      ]
    }
  ],
  "metadata": {
    "kernelspec": {
      "display_name": "Python 3",
      "name": "python3"
    },
    "language_info": {
      "name": "python"
    },
    "required_libs": [],
    "colab": {
      "provenance": []
    }
  },
  "nbformat": 4,
  "nbformat_minor": 5
}