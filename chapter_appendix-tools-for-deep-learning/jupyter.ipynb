{
  "cells": [
    {
      "cell_type": "code",
      "source": [
        "import tensorflow as tf"
      ],
      "metadata": {
        "id": "3yMAPP6WoZqp"
      },
      "id": "3yMAPP6WoZqp",
      "execution_count": 1,
      "outputs": []
    },
    {
      "cell_type": "markdown",
      "source": [
        " Create a vector, scalar, matrix and tensor with values of your choice using tf.constant()"
      ],
      "metadata": {
        "id": "85iam7P7pdOj"
      },
      "id": "85iam7P7pdOj"
    },
    {
      "cell_type": "code",
      "source": [
        "# Create a scalar\n",
        "scalar = tf.constant(5)\n",
        "print(\"Scalar:\", scalar)"
      ],
      "metadata": {
        "id": "l6asMkaxotB3"
      },
      "id": "l6asMkaxotB3",
      "execution_count": null,
      "outputs": []
    },
    {
      "cell_type": "code",
      "source": [
        "# Create a vector\n",
        "vector = tf.constant([1, 2, 3])\n",
        "print(\"Vector:\", vector)"
      ],
      "metadata": {
        "id": "AuVXcwPuo5ju"
      },
      "id": "AuVXcwPuo5ju",
      "execution_count": null,
      "outputs": []
    },
    {
      "cell_type": "code",
      "source": [
        "# Create a matrix\n",
        "matrix = tf.constant([[1, 2], [3, 4]])\n",
        "print(\"Matrix:\", matrix)"
      ],
      "metadata": {
        "id": "PqJu8oFqo8ck"
      },
      "id": "PqJu8oFqo8ck",
      "execution_count": null,
      "outputs": []
    },
    {
      "cell_type": "code",
      "source": [
        "# Create a tensor\n",
        "tensor = tf.constant([[[1, 2], [3, 4]], [[5, 6], [7, 8]]])\n",
        "print(\"Tensor:\", tensor)"
      ],
      "metadata": {
        "id": "HV8KCKcZpB0v"
      },
      "id": "HV8KCKcZpB0v",
      "execution_count": null,
      "outputs": []
    }
  ],
  "metadata": {
    "kernelspec": {
      "display_name": "Python 3",
      "name": "python3"
    },
    "language_info": {
      "name": "python"
    },
    "required_libs": [],
    "colab": {
      "provenance": []
    }
  },
  "nbformat": 4,
  "nbformat_minor": 5
}