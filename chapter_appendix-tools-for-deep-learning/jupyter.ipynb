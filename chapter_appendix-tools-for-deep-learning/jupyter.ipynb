{
  "cells": [
    {
      "cell_type": "code",
      "source": [
        "import tensorflow as tf"
      ],
      "metadata": {
        "id": "3yMAPP6WoZqp"
      },
      "id": "3yMAPP6WoZqp",
      "execution_count": 1,
      "outputs": []
    },
    {
      "cell_type": "markdown",
      "source": [
        " **1. Create a vector, scalar, matrix and tensor with values of your choice using tf.constant()**"
      ],
      "metadata": {
        "id": "85iam7P7pdOj"
      },
      "id": "85iam7P7pdOj"
    },
    {
      "cell_type": "code",
      "source": [
        "# Create a scalar\n",
        "scalar = tf.constant(5)\n",
        "print(\"Scalar:\", scalar)"
      ],
      "metadata": {
        "colab": {
          "base_uri": "https://localhost:8080/"
        },
        "id": "l6asMkaxotB3",
        "outputId": "a574b73f-9077-4385-d9bd-61ac9eeeae33"
      },
      "id": "l6asMkaxotB3",
      "execution_count": 7,
      "outputs": [
        {
          "output_type": "stream",
          "name": "stdout",
          "text": [
            "Scalar: tf.Tensor(5, shape=(), dtype=int32)\n"
          ]
        }
      ]
    },
    {
      "cell_type": "code",
      "source": [
        "# Create a vector\n",
        "vector = tf.constant([1, 2, 3])\n",
        "print(\"Vector:\", vector)"
      ],
      "metadata": {
        "colab": {
          "base_uri": "https://localhost:8080/"
        },
        "id": "AuVXcwPuo5ju",
        "outputId": "9ff6511b-869d-4cb6-9358-ed446b0819a9"
      },
      "id": "AuVXcwPuo5ju",
      "execution_count": 8,
      "outputs": [
        {
          "output_type": "stream",
          "name": "stdout",
          "text": [
            "Vector: tf.Tensor([1 2 3], shape=(3,), dtype=int32)\n"
          ]
        }
      ]
    },
    {
      "cell_type": "code",
      "source": [
        "# Create a matrix\n",
        "matrix = tf.constant([[1, 2], [3, 4]])\n",
        "print(\"Matrix:\", matrix)"
      ],
      "metadata": {
        "colab": {
          "base_uri": "https://localhost:8080/"
        },
        "id": "PqJu8oFqo8ck",
        "outputId": "64ca40ee-78e8-454f-c532-1a0d9816ba52"
      },
      "id": "PqJu8oFqo8ck",
      "execution_count": 9,
      "outputs": [
        {
          "output_type": "stream",
          "name": "stdout",
          "text": [
            "Matrix: tf.Tensor(\n",
            "[[1 2]\n",
            " [3 4]], shape=(2, 2), dtype=int32)\n"
          ]
        }
      ]
    },
    {
      "cell_type": "code",
      "source": [
        "# Create a tensor\n",
        "tensor = tf.constant([[[1, 2], [3, 4]], [[5, 6], [7, 8]]])\n",
        "print(\"Tensor:\", tensor)"
      ],
      "metadata": {
        "colab": {
          "base_uri": "https://localhost:8080/"
        },
        "id": "HV8KCKcZpB0v",
        "outputId": "a135d0a9-1cc1-470f-9b86-2a154c4986a0"
      },
      "id": "HV8KCKcZpB0v",
      "execution_count": 10,
      "outputs": [
        {
          "output_type": "stream",
          "name": "stdout",
          "text": [
            "Tensor: tf.Tensor(\n",
            "[[[1 2]\n",
            "  [3 4]]\n",
            "\n",
            " [[5 6]\n",
            "  [7 8]]], shape=(2, 2, 2), dtype=int32)\n"
          ]
        }
      ]
    },
    {
      "cell_type": "markdown",
      "source": [
        "**2.Find the shape, rank and size of the tensors (which you created for Q1).**"
      ],
      "metadata": {
        "id": "P-5EJGpZqL_i"
      },
      "id": "P-5EJGpZqL_i"
    },
    {
      "cell_type": "code",
      "source": [
        "print(\"Scalar - Shape:\", scalar.shape, \"Rank:\", tf.rank(scalar).numpy(), \"Size:\", tf.size(scalar).numpy())\n",
        "print(\"Vector - Shape:\", vector.shape, \"Rank:\", tf.rank(vector).numpy(), \"Size:\", tf.size(vector).numpy())\n",
        "print(\"Matrix - Shape:\", matrix.shape, \"Rank:\", tf.rank(matrix).numpy(), \"Size:\", tf.size(matrix).numpy())\n",
        "print(\"Tensor - Shape:\", tensor.shape, \"Rank:\", tf.rank(tensor).numpy(), \"Size:\", tf.size(tensor).numpy())"
      ],
      "metadata": {
        "colab": {
          "base_uri": "https://localhost:8080/"
        },
        "id": "unf_glmkrkiX",
        "outputId": "72ca8132-c33a-45d0-82fb-28131f03f0d4"
      },
      "id": "unf_glmkrkiX",
      "execution_count": 14,
      "outputs": [
        {
          "output_type": "stream",
          "name": "stdout",
          "text": [
            "Scalar - Shape: () Rank: 0 Size: 1\n",
            "Vector - Shape: (3,) Rank: 1 Size: 3\n",
            "Matrix - Shape: (2, 2) Rank: 2 Size: 4\n",
            "Tensor - Shape: (2, 2, 2) Rank: 3 Size: 8\n"
          ]
        }
      ]
    },
    {
      "cell_type": "markdown",
      "source": [
        "**3.Create two tensors containing random values between 0 and 1 with shape [5,300].**"
      ],
      "metadata": {
        "id": "1b4wP_QOrtY5"
      },
      "id": "1b4wP_QOrtY5"
    },
    {
      "cell_type": "code",
      "source": [
        "# Create two tensors with random values between 0 and 1, with shape [5, 300]\n",
        "tensor1 = tf.random.uniform([5, 300], minval=0, maxval=1, dtype=tf.float32)\n",
        "tensor2 = tf.random.uniform([5, 300], minval=0, maxval=1, dtype=tf.float32)\n",
        "\n",
        "print(\"Tensor 1:\")\n",
        "print(tensor1)\n",
        "print(\"Tensor 2:\")\n",
        "print(tensor2)"
      ],
      "metadata": {
        "colab": {
          "base_uri": "https://localhost:8080/"
        },
        "id": "ZNYMoVxJr1ho",
        "outputId": "0bca2c07-fc7b-4799-d8ac-f6bfb0843cbc"
      },
      "id": "ZNYMoVxJr1ho",
      "execution_count": 15,
      "outputs": [
        {
          "output_type": "stream",
          "name": "stdout",
          "text": [
            "Tensor 1:\n",
            "tf.Tensor(\n",
            "[[0.50866926 0.34323585 0.06875312 ... 0.70398474 0.28436804 0.954795  ]\n",
            " [0.4407617  0.24972486 0.75140464 ... 0.46400607 0.5011853  0.9745331 ]\n",
            " [0.41005445 0.5672165  0.4730302  ... 0.39044487 0.3019532  0.5403255 ]\n",
            " [0.74893045 0.39412177 0.46800804 ... 0.6631292  0.5188091  0.34921432]\n",
            " [0.52533185 0.32006168 0.5434861  ... 0.7179241  0.7723274  0.3415686 ]], shape=(5, 300), dtype=float32)\n",
            "Tensor 2:\n",
            "tf.Tensor(\n",
            "[[0.8037964  0.9401088  0.16081488 ... 0.714708   0.74110925 0.42733443]\n",
            " [0.04235852 0.33751655 0.44583797 ... 0.68953884 0.97895205 0.6400398 ]\n",
            " [0.4674623  0.31654525 0.43272936 ... 0.9307698  0.43508494 0.6753799 ]\n",
            " [0.73404264 0.4311341  0.19812346 ... 0.8996655  0.72960484 0.05689728]\n",
            " [0.9880637  0.20429504 0.6000763  ... 0.13621819 0.01385868 0.28384137]], shape=(5, 300), dtype=float32)\n"
          ]
        }
      ]
    },
    {
      "cell_type": "markdown",
      "source": [
        "**4.Multiply the two tensors (which you created for Question 3) using matrix multiplication. **"
      ],
      "metadata": {
        "id": "DgtvVf_8tPCd"
      },
      "id": "DgtvVf_8tPCd"
    },
    {
      "cell_type": "code",
      "source": [
        "# Create two tensors with random values between 0 and 1, with shape [5, 300]\n",
        "tensor1 = tf.random.uniform([5, 300], minval=0, maxval=1, dtype=tf.float32)\n",
        "tensor2 = tf.random.uniform([5, 300], minval=0, maxval=1, dtype=tf.float32)\n"
      ],
      "metadata": {
        "id": "I3NppXb3tOMn"
      },
      "id": "I3NppXb3tOMn",
      "execution_count": 16,
      "outputs": []
    },
    {
      "cell_type": "code",
      "source": [
        "# Perform matrix multiplication\n",
        "result = tf.matmul(tensor1, tensor2, transpose_b=True)"
      ],
      "metadata": {
        "id": "K0k8TF0WtqFl"
      },
      "id": "K0k8TF0WtqFl",
      "execution_count": 17,
      "outputs": []
    },
    {
      "cell_type": "code",
      "source": [
        "# Print the resulting tensor\n",
        "print(\"Result of matrix multiplication:\")\n",
        "print(result)"
      ],
      "metadata": {
        "colab": {
          "base_uri": "https://localhost:8080/"
        },
        "id": "9otMaOr3tq5H",
        "outputId": "ac52ce28-ca20-446f-851b-d4a3fe7f1fd9"
      },
      "id": "9otMaOr3tq5H",
      "execution_count": 18,
      "outputs": [
        {
          "output_type": "stream",
          "name": "stdout",
          "text": [
            "Result of matrix multiplication:\n",
            "tf.Tensor(\n",
            "[[69.910835 72.72605  78.3583   72.24144  73.18646 ]\n",
            " [69.678955 76.18139  79.70685  73.566666 74.53197 ]\n",
            " [71.33916  74.29613  78.62572  72.7796   77.28064 ]\n",
            " [67.68257  73.377625 78.45811  70.747765 71.62793 ]\n",
            " [68.02311  76.95296  76.86586  75.7589   77.96804 ]], shape=(5, 5), dtype=float32)\n"
          ]
        }
      ]
    },
    {
      "cell_type": "markdown",
      "source": [
        "**5.Multiply the two tensors (which you created for Question 3) using dot product.**"
      ],
      "metadata": {
        "id": "3dhElq0tt9_h"
      },
      "id": "3dhElq0tt9_h"
    },
    {
      "cell_type": "code",
      "source": [
        "# Create two tensors with random values between 0 and 1, with shape [5, 300]\n",
        "tensor1 = tf.random.uniform([5, 300], minval=0, maxval=1, dtype=tf.float32)\n",
        "tensor2 = tf.random.uniform([5, 300], minval=0, maxval=1, dtype=tf.float32)"
      ],
      "metadata": {
        "id": "VQcsrGQWuWKt"
      },
      "id": "VQcsrGQWuWKt",
      "execution_count": 20,
      "outputs": []
    },
    {
      "cell_type": "code",
      "source": [
        "# Compute the dot product\n",
        "dot_product = tf.tensordot(tensor1, tensor2, axes=[[1], [1]])\n"
      ],
      "metadata": {
        "id": "lcRAohfKt8jH"
      },
      "id": "lcRAohfKt8jH",
      "execution_count": 22,
      "outputs": []
    },
    {
      "cell_type": "code",
      "source": [
        "# Print the resulting tensor\n",
        "print(\"Result of dot product:\")\n",
        "print(dot_product)"
      ],
      "metadata": {
        "id": "bxd5aAcCuJ00",
        "outputId": "0b77e89e-950e-4bbe-e612-3613a35c6b5c",
        "colab": {
          "base_uri": "https://localhost:8080/"
        }
      },
      "id": "bxd5aAcCuJ00",
      "execution_count": 23,
      "outputs": [
        {
          "output_type": "stream",
          "name": "stdout",
          "text": [
            "Result of dot product:\n",
            "tf.Tensor(\n",
            "[[73.01307  75.611565 73.757515 69.46524  73.84509 ]\n",
            " [75.95446  78.40941  75.29412  69.9543   73.48273 ]\n",
            " [79.73375  84.68331  79.797615 79.57023  78.26837 ]\n",
            " [73.06737  75.45175  71.85271  71.42295  68.94172 ]\n",
            " [75.11339  80.94206  75.51499  76.22696  74.56004 ]], shape=(5, 5), dtype=float32)\n"
          ]
        }
      ]
    }
  ],
  "metadata": {
    "kernelspec": {
      "display_name": "Python 3",
      "name": "python3"
    },
    "language_info": {
      "name": "python"
    },
    "required_libs": [],
    "colab": {
      "provenance": []
    }
  },
  "nbformat": 4,
  "nbformat_minor": 5
}